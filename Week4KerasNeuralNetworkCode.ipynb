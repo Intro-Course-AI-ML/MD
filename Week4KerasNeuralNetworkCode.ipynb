{
  "nbformat": 4,
  "nbformat_minor": 0,
  "metadata": {
    "colab": {
      "name": "Week4KerasNeuralNetworkCode.ipynb",
      "provenance": [],
      "authorship_tag": "ABX9TyOF3uYbIVMLJ39vpW+jmNRi"
    },
    "kernelspec": {
      "name": "python3",
      "display_name": "Python 3"
    }
  },
  "cells": [
    {
      "cell_type": "code",
      "metadata": {
        "id": "sIL-VPRUPetm",
        "colab_type": "code",
        "colab": {}
      },
      "source": [
        "from numpy import loadtxt\n",
        "from keras.models import Sequential\n",
        "from keras.layers import Dense\n",
        "import matplotlib.pyplot as plt"
      ],
      "execution_count": 36,
      "outputs": []
    },
    {
      "cell_type": "code",
      "metadata": {
        "id": "zKfiwmUvjZGl",
        "colab_type": "code",
        "colab": {}
      },
      "source": [
        "dataset = loadtxt('https://raw.githubusercontent.com/SiP-AI-ML/LessonMaterials/master/pima-indians-diabetes.csv', delimiter = ',')\n",
        "X = dataset[:,0:8]\n",
        "y = dataset[:,8]"
      ],
      "execution_count": 37,
      "outputs": []
    },
    {
      "cell_type": "code",
      "metadata": {
        "id": "Ob7Aa4TnkBSB",
        "colab_type": "code",
        "colab": {
          "base_uri": "https://localhost:8080/",
          "height": 255
        },
        "outputId": "5786f293-afc9-4312-9e7e-658699eca0ef"
      },
      "source": [
        "model = Sequential()\n",
        "model.add(Dense(12, input_dim=8, activation='relu'))\n",
        "model.add(Dense(8, activation='relu'))\n",
        "model.add(Dense(1, activation='sigmoid'))\n",
        "model.summary()"
      ],
      "execution_count": 38,
      "outputs": [
        {
          "output_type": "stream",
          "text": [
            "Model: \"sequential_9\"\n",
            "_________________________________________________________________\n",
            "Layer (type)                 Output Shape              Param #   \n",
            "=================================================================\n",
            "dense_25 (Dense)             (None, 12)                108       \n",
            "_________________________________________________________________\n",
            "dense_26 (Dense)             (None, 8)                 104       \n",
            "_________________________________________________________________\n",
            "dense_27 (Dense)             (None, 1)                 9         \n",
            "=================================================================\n",
            "Total params: 221\n",
            "Trainable params: 221\n",
            "Non-trainable params: 0\n",
            "_________________________________________________________________\n"
          ],
          "name": "stdout"
        }
      ]
    },
    {
      "cell_type": "code",
      "metadata": {
        "id": "Wwspjt0rrW6w",
        "colab_type": "code",
        "colab": {}
      },
      "source": [
        "model.compile(loss='binary_crossentropy', optimizer='adam', metrics=['accuracy'])"
      ],
      "execution_count": null,
      "outputs": []
    },
    {
      "cell_type": "code",
      "metadata": {
        "id": "DO1QJ69hrpRi",
        "colab_type": "code",
        "colab": {
          "base_uri": "https://localhost:8080/",
          "height": 1000
        },
        "outputId": "bdea91bb-7b4e-4585-ad24-4a844885f2d2"
      },
      "source": [
        "training = model.fit(X, y, epochs=150, batch_size=10, verbose = 2)"
      ],
      "execution_count": 40,
      "outputs": [
        {
          "output_type": "stream",
          "text": [
            "Epoch 1/150\n",
            " - 0s - loss: 1.7774 - accuracy: 0.4831\n",
            "Epoch 2/150\n",
            " - 0s - loss: 0.8048 - accuracy: 0.5924\n",
            "Epoch 3/150\n",
            " - 0s - loss: 0.7051 - accuracy: 0.6497\n",
            "Epoch 4/150\n",
            " - 0s - loss: 0.6806 - accuracy: 0.6562\n",
            "Epoch 5/150\n",
            " - 0s - loss: 0.6501 - accuracy: 0.6745\n",
            "Epoch 6/150\n",
            " - 0s - loss: 0.6859 - accuracy: 0.6706\n",
            "Epoch 7/150\n",
            " - 0s - loss: 0.6434 - accuracy: 0.6745\n",
            "Epoch 8/150\n",
            " - 0s - loss: 0.6163 - accuracy: 0.7148\n",
            "Epoch 9/150\n",
            " - 0s - loss: 0.6114 - accuracy: 0.6940\n",
            "Epoch 10/150\n",
            " - 0s - loss: 0.6115 - accuracy: 0.6940\n",
            "Epoch 11/150\n",
            " - 0s - loss: 0.6204 - accuracy: 0.7044\n",
            "Epoch 12/150\n",
            " - 0s - loss: 0.6210 - accuracy: 0.6745\n",
            "Epoch 13/150\n",
            " - 0s - loss: 0.6058 - accuracy: 0.6966\n",
            "Epoch 14/150\n",
            " - 0s - loss: 0.6074 - accuracy: 0.7083\n",
            "Epoch 15/150\n",
            " - 0s - loss: 0.5963 - accuracy: 0.7174\n",
            "Epoch 16/150\n",
            " - 0s - loss: 0.5894 - accuracy: 0.7122\n",
            "Epoch 17/150\n",
            " - 0s - loss: 0.5669 - accuracy: 0.7201\n",
            "Epoch 18/150\n",
            " - 0s - loss: 0.5689 - accuracy: 0.7214\n",
            "Epoch 19/150\n",
            " - 0s - loss: 0.6047 - accuracy: 0.6992\n",
            "Epoch 20/150\n",
            " - 0s - loss: 0.5766 - accuracy: 0.7318\n",
            "Epoch 21/150\n",
            " - 0s - loss: 0.5749 - accuracy: 0.7370\n",
            "Epoch 22/150\n",
            " - 0s - loss: 0.5697 - accuracy: 0.7109\n",
            "Epoch 23/150\n",
            " - 0s - loss: 0.5740 - accuracy: 0.7044\n",
            "Epoch 24/150\n",
            " - 0s - loss: 0.5662 - accuracy: 0.7305\n",
            "Epoch 25/150\n",
            " - 0s - loss: 0.5726 - accuracy: 0.7031\n",
            "Epoch 26/150\n",
            " - 0s - loss: 0.5528 - accuracy: 0.7331\n",
            "Epoch 27/150\n",
            " - 0s - loss: 0.5705 - accuracy: 0.7188\n",
            "Epoch 28/150\n",
            " - 0s - loss: 0.5532 - accuracy: 0.7305\n",
            "Epoch 29/150\n",
            " - 0s - loss: 0.5510 - accuracy: 0.7253\n",
            "Epoch 30/150\n",
            " - 0s - loss: 0.5659 - accuracy: 0.7253\n",
            "Epoch 31/150\n",
            " - 0s - loss: 0.5377 - accuracy: 0.7331\n",
            "Epoch 32/150\n",
            " - 0s - loss: 0.5801 - accuracy: 0.7318\n",
            "Epoch 33/150\n",
            " - 0s - loss: 0.5531 - accuracy: 0.7370\n",
            "Epoch 34/150\n",
            " - 0s - loss: 0.5426 - accuracy: 0.7448\n",
            "Epoch 35/150\n",
            " - 0s - loss: 0.5581 - accuracy: 0.7279\n",
            "Epoch 36/150\n",
            " - 0s - loss: 0.5403 - accuracy: 0.7435\n",
            "Epoch 37/150\n",
            " - 0s - loss: 0.5431 - accuracy: 0.7331\n",
            "Epoch 38/150\n",
            " - 0s - loss: 0.5365 - accuracy: 0.7474\n",
            "Epoch 39/150\n",
            " - 0s - loss: 0.5478 - accuracy: 0.7174\n",
            "Epoch 40/150\n",
            " - 0s - loss: 0.5362 - accuracy: 0.7422\n",
            "Epoch 41/150\n",
            " - 0s - loss: 0.5478 - accuracy: 0.7370\n",
            "Epoch 42/150\n",
            " - 0s - loss: 0.5505 - accuracy: 0.7357\n",
            "Epoch 43/150\n",
            " - 0s - loss: 0.5393 - accuracy: 0.7357\n",
            "Epoch 44/150\n",
            " - 0s - loss: 0.5450 - accuracy: 0.7370\n",
            "Epoch 45/150\n",
            " - 0s - loss: 0.5318 - accuracy: 0.7448\n",
            "Epoch 46/150\n",
            " - 0s - loss: 0.5395 - accuracy: 0.7396\n",
            "Epoch 47/150\n",
            " - 0s - loss: 0.5459 - accuracy: 0.7396\n",
            "Epoch 48/150\n",
            " - 0s - loss: 0.5597 - accuracy: 0.7422\n",
            "Epoch 49/150\n",
            " - 0s - loss: 0.5335 - accuracy: 0.7383\n",
            "Epoch 50/150\n",
            " - 0s - loss: 0.5298 - accuracy: 0.7396\n",
            "Epoch 51/150\n",
            " - 0s - loss: 0.5318 - accuracy: 0.7487\n",
            "Epoch 52/150\n",
            " - 0s - loss: 0.5336 - accuracy: 0.7565\n",
            "Epoch 53/150\n",
            " - 0s - loss: 0.5300 - accuracy: 0.7578\n",
            "Epoch 54/150\n",
            " - 0s - loss: 0.5670 - accuracy: 0.7305\n",
            "Epoch 55/150\n",
            " - 0s - loss: 0.5317 - accuracy: 0.7370\n",
            "Epoch 56/150\n",
            " - 0s - loss: 0.5217 - accuracy: 0.7539\n",
            "Epoch 57/150\n",
            " - 0s - loss: 0.5240 - accuracy: 0.7396\n",
            "Epoch 58/150\n",
            " - 0s - loss: 0.5162 - accuracy: 0.7526\n",
            "Epoch 59/150\n",
            " - 0s - loss: 0.5175 - accuracy: 0.7448\n",
            "Epoch 60/150\n",
            " - 0s - loss: 0.5474 - accuracy: 0.7344\n",
            "Epoch 61/150\n",
            " - 0s - loss: 0.5351 - accuracy: 0.7435\n",
            "Epoch 62/150\n",
            " - 0s - loss: 0.5181 - accuracy: 0.7474\n",
            "Epoch 63/150\n",
            " - 0s - loss: 0.5231 - accuracy: 0.7344\n",
            "Epoch 64/150\n",
            " - 0s - loss: 0.5192 - accuracy: 0.7487\n",
            "Epoch 65/150\n",
            " - 0s - loss: 0.5193 - accuracy: 0.7487\n",
            "Epoch 66/150\n",
            " - 0s - loss: 0.5175 - accuracy: 0.7487\n",
            "Epoch 67/150\n",
            " - 0s - loss: 0.5096 - accuracy: 0.7435\n",
            "Epoch 68/150\n",
            " - 0s - loss: 0.5183 - accuracy: 0.7422\n",
            "Epoch 69/150\n",
            " - 0s - loss: 0.5140 - accuracy: 0.7461\n",
            "Epoch 70/150\n",
            " - 0s - loss: 0.5266 - accuracy: 0.7487\n",
            "Epoch 71/150\n",
            " - 0s - loss: 0.5124 - accuracy: 0.7500\n",
            "Epoch 72/150\n",
            " - 0s - loss: 0.4981 - accuracy: 0.7474\n",
            "Epoch 73/150\n",
            " - 0s - loss: 0.5083 - accuracy: 0.7526\n",
            "Epoch 74/150\n",
            " - 0s - loss: 0.5253 - accuracy: 0.7474\n",
            "Epoch 75/150\n",
            " - 0s - loss: 0.5024 - accuracy: 0.7578\n",
            "Epoch 76/150\n",
            " - 0s - loss: 0.4999 - accuracy: 0.7526\n",
            "Epoch 77/150\n",
            " - 0s - loss: 0.5033 - accuracy: 0.7591\n",
            "Epoch 78/150\n",
            " - 0s - loss: 0.5091 - accuracy: 0.7617\n",
            "Epoch 79/150\n",
            " - 0s - loss: 0.5005 - accuracy: 0.7539\n",
            "Epoch 80/150\n",
            " - 0s - loss: 0.4959 - accuracy: 0.7656\n",
            "Epoch 81/150\n",
            " - 0s - loss: 0.5144 - accuracy: 0.7552\n",
            "Epoch 82/150\n",
            " - 0s - loss: 0.4981 - accuracy: 0.7578\n",
            "Epoch 83/150\n",
            " - 0s - loss: 0.5045 - accuracy: 0.7591\n",
            "Epoch 84/150\n",
            " - 0s - loss: 0.5138 - accuracy: 0.7617\n",
            "Epoch 85/150\n",
            " - 0s - loss: 0.4939 - accuracy: 0.7786\n",
            "Epoch 86/150\n",
            " - 0s - loss: 0.4862 - accuracy: 0.7708\n",
            "Epoch 87/150\n",
            " - 0s - loss: 0.5044 - accuracy: 0.7487\n",
            "Epoch 88/150\n",
            " - 0s - loss: 0.5181 - accuracy: 0.7461\n",
            "Epoch 89/150\n",
            " - 0s - loss: 0.5116 - accuracy: 0.7513\n",
            "Epoch 90/150\n",
            " - 0s - loss: 0.5049 - accuracy: 0.7630\n",
            "Epoch 91/150\n",
            " - 0s - loss: 0.4995 - accuracy: 0.7591\n",
            "Epoch 92/150\n",
            " - 0s - loss: 0.4878 - accuracy: 0.7552\n",
            "Epoch 93/150\n",
            " - 0s - loss: 0.5007 - accuracy: 0.7578\n",
            "Epoch 94/150\n",
            " - 0s - loss: 0.4897 - accuracy: 0.7682\n",
            "Epoch 95/150\n",
            " - 0s - loss: 0.4947 - accuracy: 0.7630\n",
            "Epoch 96/150\n",
            " - 0s - loss: 0.4985 - accuracy: 0.7604\n",
            "Epoch 97/150\n",
            " - 0s - loss: 0.4972 - accuracy: 0.7552\n",
            "Epoch 98/150\n",
            " - 0s - loss: 0.5176 - accuracy: 0.7474\n",
            "Epoch 99/150\n",
            " - 0s - loss: 0.4814 - accuracy: 0.7734\n",
            "Epoch 100/150\n",
            " - 0s - loss: 0.4909 - accuracy: 0.7656\n",
            "Epoch 101/150\n",
            " - 0s - loss: 0.4968 - accuracy: 0.7552\n",
            "Epoch 102/150\n",
            " - 0s - loss: 0.4808 - accuracy: 0.7695\n",
            "Epoch 103/150\n",
            " - 0s - loss: 0.4851 - accuracy: 0.7565\n",
            "Epoch 104/150\n",
            " - 0s - loss: 0.4906 - accuracy: 0.7669\n",
            "Epoch 105/150\n",
            " - 0s - loss: 0.4995 - accuracy: 0.7539\n",
            "Epoch 106/150\n",
            " - 0s - loss: 0.4929 - accuracy: 0.7669\n",
            "Epoch 107/150\n",
            " - 0s - loss: 0.4879 - accuracy: 0.7695\n",
            "Epoch 108/150\n",
            " - 0s - loss: 0.4920 - accuracy: 0.7526\n",
            "Epoch 109/150\n",
            " - 0s - loss: 0.4881 - accuracy: 0.7734\n",
            "Epoch 110/150\n",
            " - 0s - loss: 0.4779 - accuracy: 0.7695\n",
            "Epoch 111/150\n",
            " - 0s - loss: 0.4980 - accuracy: 0.7513\n",
            "Epoch 112/150\n",
            " - 0s - loss: 0.4944 - accuracy: 0.7695\n",
            "Epoch 113/150\n",
            " - 0s - loss: 0.4786 - accuracy: 0.7695\n",
            "Epoch 114/150\n",
            " - 0s - loss: 0.4853 - accuracy: 0.7643\n",
            "Epoch 115/150\n",
            " - 0s - loss: 0.4774 - accuracy: 0.7604\n",
            "Epoch 116/150\n",
            " - 0s - loss: 0.4950 - accuracy: 0.7591\n",
            "Epoch 117/150\n",
            " - 0s - loss: 0.4784 - accuracy: 0.7656\n",
            "Epoch 118/150\n",
            " - 0s - loss: 0.4800 - accuracy: 0.7630\n",
            "Epoch 119/150\n",
            " - 0s - loss: 0.4875 - accuracy: 0.7734\n",
            "Epoch 120/150\n",
            " - 0s - loss: 0.4820 - accuracy: 0.7812\n",
            "Epoch 121/150\n",
            " - 0s - loss: 0.4780 - accuracy: 0.7630\n",
            "Epoch 122/150\n",
            " - 0s - loss: 0.5029 - accuracy: 0.7500\n",
            "Epoch 123/150\n",
            " - 0s - loss: 0.4817 - accuracy: 0.7617\n",
            "Epoch 124/150\n",
            " - 0s - loss: 0.4822 - accuracy: 0.7669\n",
            "Epoch 125/150\n",
            " - 0s - loss: 0.4817 - accuracy: 0.7643\n",
            "Epoch 126/150\n",
            " - 0s - loss: 0.4863 - accuracy: 0.7682\n",
            "Epoch 127/150\n",
            " - 0s - loss: 0.4803 - accuracy: 0.7734\n",
            "Epoch 128/150\n",
            " - 0s - loss: 0.4719 - accuracy: 0.7826\n",
            "Epoch 129/150\n",
            " - 0s - loss: 0.4911 - accuracy: 0.7734\n",
            "Epoch 130/150\n",
            " - 0s - loss: 0.4744 - accuracy: 0.7630\n",
            "Epoch 131/150\n",
            " - 0s - loss: 0.4684 - accuracy: 0.7799\n",
            "Epoch 132/150\n",
            " - 0s - loss: 0.4733 - accuracy: 0.7747\n",
            "Epoch 133/150\n",
            " - 0s - loss: 0.4796 - accuracy: 0.7734\n",
            "Epoch 134/150\n",
            " - 0s - loss: 0.4587 - accuracy: 0.7786\n",
            "Epoch 135/150\n",
            " - 0s - loss: 0.4809 - accuracy: 0.7565\n",
            "Epoch 136/150\n",
            " - 0s - loss: 0.4786 - accuracy: 0.7656\n",
            "Epoch 137/150\n",
            " - 0s - loss: 0.4867 - accuracy: 0.7617\n",
            "Epoch 138/150\n",
            " - 0s - loss: 0.4864 - accuracy: 0.7591\n",
            "Epoch 139/150\n",
            " - 0s - loss: 0.4714 - accuracy: 0.7786\n",
            "Epoch 140/150\n",
            " - 0s - loss: 0.4643 - accuracy: 0.7839\n",
            "Epoch 141/150\n",
            " - 0s - loss: 0.4959 - accuracy: 0.7604\n",
            "Epoch 142/150\n",
            " - 0s - loss: 0.4736 - accuracy: 0.7826\n",
            "Epoch 143/150\n",
            " - 0s - loss: 0.4939 - accuracy: 0.7734\n",
            "Epoch 144/150\n",
            " - 0s - loss: 0.4776 - accuracy: 0.7682\n",
            "Epoch 145/150\n",
            " - 0s - loss: 0.4777 - accuracy: 0.7630\n",
            "Epoch 146/150\n",
            " - 0s - loss: 0.4627 - accuracy: 0.7721\n",
            "Epoch 147/150\n",
            " - 0s - loss: 0.4643 - accuracy: 0.7773\n",
            "Epoch 148/150\n",
            " - 0s - loss: 0.4637 - accuracy: 0.7786\n",
            "Epoch 149/150\n",
            " - 0s - loss: 0.4791 - accuracy: 0.7695\n",
            "Epoch 150/150\n",
            " - 0s - loss: 0.4616 - accuracy: 0.7734\n"
          ],
          "name": "stdout"
        }
      ]
    },
    {
      "cell_type": "code",
      "metadata": {
        "id": "Xac8oP1xsHyO",
        "colab_type": "code",
        "colab": {
          "base_uri": "https://localhost:8080/",
          "height": 295
        },
        "outputId": "b7b6707f-5c97-4a7f-ca86-ca437875d32f"
      },
      "source": [
        "plt.plot(training.history['accuracy'])\n",
        "plt.title('Model Accuracy')\n",
        "plt.ylabel('Accuracy')\n",
        "plt.xlabel('Epochs')\n",
        "plt.show()"
      ],
      "execution_count": 41,
      "outputs": [
        {
          "output_type": "display_data",
          "data": {
            "image/png": "[encoded data removed]",
            "text/plain": [
              "<Figure size 432x288 with 1 Axes>"
            ]
          },
          "metadata": {
            "tags": [],
            "needs_background": "light"
          }
        }
      ]
    },
    {
      "cell_type": "code",
      "metadata": {
        "id": "SSH7K-6as994",
        "colab_type": "code",
        "colab": {
          "base_uri": "https://localhost:8080/",
          "height": 295
        },
        "outputId": "214ecd27-5b05-4c0d-e76f-a3feec0cecbf"
      },
      "source": [
        "plt.plot(training.history['loss'])\n",
        "plt.title('Model Loss')\n",
        "plt.ylabel('Loss')\n",
        "plt.xlabel('Epochs')\n",
        "plt.show()"
      ],
      "execution_count": 42,
      "outputs": [
        {
          "output_type": "display_data",
          "data": {
            "image/png": "[encoded data removed]",
            "text/plain": [
              "<Figure size 432x288 with 1 Axes>"
            ]
          },
          "metadata": {
            "tags": [],
            "needs_background": "light"
          }
        }
      ]
    },
    {
      "cell_type": "code",
      "metadata": {
        "id": "4P7cQLmktbQE",
        "colab_type": "code",
        "colab": {
          "base_uri": "https://localhost:8080/",
          "height": 102
        },
        "outputId": "c9595026-9b8d-4afb-b240-a460d06a6eb7"
      },
      "source": [
        "_, accuracy = model.evaluate(X, y)\n",
        "print(model.evaluate(X,y))\n",
        "print(accuracy * 100)\n",
        "print('Accuracy: %.2f' % (accuracy*100))"
      ],
      "execution_count": 43,
      "outputs": [
        {
          "output_type": "stream",
          "text": [
            "768/768 [==============================] - 0s 39us/step\n",
            "768/768 [==============================] - 0s 19us/step\n",
            "[0.4498697618643443, 0.7890625]\n",
            "78.90625\n",
            "Accuracy: 78.91\n"
          ],
          "name": "stdout"
        }
      ]
    }
  ]
}