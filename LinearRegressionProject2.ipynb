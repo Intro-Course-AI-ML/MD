{
  "nbformat": 4,
  "nbformat_minor": 0,
  "metadata": {
    "colab": {
      "name": "LinearRegressionProject2.ipynb",
      "provenance": [],
      "collapsed_sections": [],
      "authorship_tag": "ABX9TyP2lR3VKYIe54a4U1uBFs7J"
    },
    "kernelspec": {
      "name": "python3",
      "display_name": "Python 3"
    }
  },
  "cells": [
    {
      "cell_type": "code",
      "metadata": {
        "id": "3WCLI6Rxrp0B",
        "colab_type": "code",
        "colab": {}
      },
      "source": [
        "import numpy as np\n",
        "import pandas as pd\n",
        "import matplotlib.pyplot as plt"
      ],
      "execution_count": null,
      "outputs": []
    },
    {
      "cell_type": "code",
      "metadata": {
        "id": "HV-ZMNYsrta_",
        "colab_type": "code",
        "colab": {}
      },
      "source": [
        "df = pd.read_csv(\"https://raw.githubusercontent.com/SiP-AI-ML/LessonMaterials/master/sales_data.csv\", header=None)"
      ],
      "execution_count": null,
      "outputs": []
    },
    {
      "cell_type": "code",
      "metadata": {
        "id": "xWvZHl4MrwHa",
        "colab_type": "code",
        "colab": {
          "base_uri": "https://localhost:8080/",
          "height": 119
        },
        "outputId": "6c523852-b197-4af6-fa9a-236c69a592e9"
      },
      "source": [
        "print(df.head())"
      ],
      "execution_count": null,
      "outputs": [
        {
          "output_type": "stream",
          "text": [
            "      0     1\n",
            "0  12.0  15.0\n",
            "1  20.5  16.0\n",
            "2  21.0  18.0\n",
            "3  15.5  27.0\n",
            "4  15.3  21.0\n"
          ],
          "name": "stdout"
        }
      ]
    },
    {
      "cell_type": "code",
      "metadata": {
        "id": "XOHKRosLr0Sm",
        "colab_type": "code",
        "colab": {}
      },
      "source": [
        "df.columns = ['Sales', 'Advertising']"
      ],
      "execution_count": null,
      "outputs": []
    },
    {
      "cell_type": "code",
      "metadata": {
        "id": "bSANHpDQr4JW",
        "colab_type": "code",
        "colab": {
          "base_uri": "https://localhost:8080/",
          "height": 119
        },
        "outputId": "e85d7a57-a7d9-46a2-f05a-f438b6d72459"
      },
      "source": [
        "print(df.head())"
      ],
      "execution_count": null,
      "outputs": [
        {
          "output_type": "stream",
          "text": [
            "   Sales  Advertising\n",
            "0   12.0         15.0\n",
            "1   20.5         16.0\n",
            "2   21.0         18.0\n",
            "3   15.5         27.0\n",
            "4   15.3         21.0\n"
          ],
          "name": "stdout"
        }
      ]
    },
    {
      "cell_type": "code",
      "metadata": {
        "id": "zoCFWOYesHQT",
        "colab_type": "code",
        "colab": {}
      },
      "source": [
        "X = df['Sales'].values"
      ],
      "execution_count": null,
      "outputs": []
    },
    {
      "cell_type": "code",
      "metadata": {
        "id": "Pj5XV5VQsH3I",
        "colab_type": "code",
        "colab": {}
      },
      "source": [
        "y = df['Advertising'].values"
      ],
      "execution_count": null,
      "outputs": []
    },
    {
      "cell_type": "code",
      "metadata": {
        "id": "uC7GrDbNsJ79",
        "colab_type": "code",
        "colab": {
          "base_uri": "https://localhost:8080/",
          "height": 629
        },
        "outputId": "166e2aba-76b8-4987-82b4-2a5b911259d6"
      },
      "source": [
        "X = X.reshape(-1,1)\n",
        "y = y.reshape(-1,1)\n",
        "\n",
        "print(X)"
      ],
      "execution_count": null,
      "outputs": [
        {
          "output_type": "stream",
          "text": [
            "[[12. ]\n",
            " [20.5]\n",
            " [21. ]\n",
            " [15.5]\n",
            " [15.3]\n",
            " [23.5]\n",
            " [24.5]\n",
            " [21.3]\n",
            " [23.5]\n",
            " [28. ]\n",
            " [24. ]\n",
            " [15.5]\n",
            " [17.3]\n",
            " [25.3]\n",
            " [25. ]\n",
            " [36.5]\n",
            " [36.5]\n",
            " [29.6]\n",
            " [30.5]\n",
            " [28. ]\n",
            " [26. ]\n",
            " [21.5]\n",
            " [19.7]\n",
            " [19. ]\n",
            " [16. ]\n",
            " [20.7]\n",
            " [26.5]\n",
            " [30.6]\n",
            " [32.3]\n",
            " [29.5]\n",
            " [28.3]\n",
            " [31.3]\n",
            " [32.3]\n",
            " [26.4]\n",
            " [23.4]\n",
            " [16.4]]\n"
          ],
          "name": "stdout"
        }
      ]
    },
    {
      "cell_type": "code",
      "metadata": {
        "id": "FQJ0pjd-sL8_",
        "colab_type": "code",
        "colab": {}
      },
      "source": [
        "from sklearn.model_selection import train_test_split\n",
        "X_train,X_test,y_train,y_test = train_test_split(X, y, test_size=0.33, random_state=42)"
      ],
      "execution_count": null,
      "outputs": []
    },
    {
      "cell_type": "code",
      "metadata": {
        "id": "1WUXZeNUsONH",
        "colab_type": "code",
        "colab": {}
      },
      "source": [
        "from sklearn.linear_model import LinearRegression\n",
        "lm = LinearRegression()"
      ],
      "execution_count": null,
      "outputs": []
    },
    {
      "cell_type": "code",
      "metadata": {
        "id": "rUS5ITYvsQXB",
        "colab_type": "code",
        "colab": {
          "base_uri": "https://localhost:8080/",
          "height": 34
        },
        "outputId": "656958a1-9151-4286-b95c-3bb042a17867"
      },
      "source": [
        "lm.fit(X_train,y_train)"
      ],
      "execution_count": null,
      "outputs": [
        {
          "output_type": "execute_result",
          "data": {
            "text/plain": [
              "LinearRegression(copy_X=True, fit_intercept=True, n_jobs=None, normalize=False)"
            ]
          },
          "metadata": {
            "tags": []
          },
          "execution_count": 41
        }
      ]
    },
    {
      "cell_type": "code",
      "metadata": {
        "id": "2eIjY-CNsSpV",
        "colab_type": "code",
        "colab": {
          "base_uri": "https://localhost:8080/",
          "height": 295
        },
        "outputId": "b01c470c-c6ea-4ca1-b4f6-6a3ff56a6707"
      },
      "source": [
        "plt.scatter(X_train, y_train, color = 'purple')\n",
        "\n",
        "plt.plot(X_train, lm.predict(X_train), color='blue')\n",
        "plt.title('Sales Value vs Advertising Value (Training set)')\n",
        "plt.xlabel('Sales Value')\n",
        "plt.ylabel('Advertising Value')\n",
        "plt.show()"
      ],
      "execution_count": null,
      "outputs": [
        {
          "output_type": "display_data",
          "data": {
            "image/png": "[encoded data removed]",
            "text/plain": [
              "<Figure size 432x288 with 1 Axes>"
            ]
          },
          "metadata": {
            "tags": [],
            "needs_background": "light"
          }
        }
      ]
    },
    {
      "cell_type": "code",
      "metadata": {
        "id": "qSxVg7XKseOb",
        "colab_type": "code",
        "colab": {}
      },
      "source": [
        "y_pred = lm.predict(X_test)"
      ],
      "execution_count": null,
      "outputs": []
    },
    {
      "cell_type": "code",
      "metadata": {
        "id": "hqzx-C1Ysgks",
        "colab_type": "code",
        "colab": {
          "base_uri": "https://localhost:8080/",
          "height": 295
        },
        "outputId": "e1a29d6c-b63f-4e59-a379-577cd80839a7"
      },
      "source": [
        "import matplotlib.pyplot as plt\n",
        "\n",
        "plt.scatter(X_test, y_test, color = 'pink')\n",
        "\n",
        "plt.plot(X_train, lm.predict(X_train), color='red')\n",
        "plt.title('Sales Value vs Advertising Value (Test Set)')\n",
        "plt.xlabel('Sales Value')\n",
        "plt.ylabel('Advertising value')\n",
        "plt.show()"
      ],
      "execution_count": null,
      "outputs": [
        {
          "output_type": "display_data",
          "data": {
            "image/png": "[encoded data removed]",
            "text/plain": [
              "<Figure size 432x288 with 1 Axes>"
            ]
          },
          "metadata": {
            "tags": [],
            "needs_background": "light"
          }
        }
      ]
    },
    {
      "cell_type": "code",
      "metadata": {
        "id": "GIqIpJzPspam",
        "colab_type": "code",
        "colab": {
          "base_uri": "https://localhost:8080/",
          "height": 102
        },
        "outputId": "a8861c1b-aba9-45ce-99fc-f895538800d9"
      },
      "source": [
        "lm.predict(X)[0:5]"
      ],
      "execution_count": null,
      "outputs": [
        {
          "output_type": "execute_result",
          "data": {
            "text/plain": [
              "array([[ 8.10108551],\n",
              "       [21.74438002],\n",
              "       [22.54692675],\n",
              "       [13.71891266],\n",
              "       [13.39789396]])"
            ]
          },
          "metadata": {
            "tags": []
          },
          "execution_count": 45
        }
      ]
    },
    {
      "cell_type": "code",
      "metadata": {
        "id": "VJfyZd4iszPf",
        "colab_type": "code",
        "colab": {
          "base_uri": "https://localhost:8080/",
          "height": 34
        },
        "outputId": "fbb445ef-1d08-423a-902c-57473403c396"
      },
      "source": [
        "givenPrediction = [[28]]\n",
        "print(str(lm.predict(givenPrediction)))"
      ],
      "execution_count": null,
      "outputs": [
        {
          "output_type": "stream",
          "text": [
            "[[33.78258106]]\n"
          ],
          "name": "stdout"
        }
      ]
    }
  ]
}