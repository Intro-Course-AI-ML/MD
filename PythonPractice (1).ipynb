{
  "nbformat": 4,
  "nbformat_minor": 0,
  "metadata": {
    "colab": {
      "name": "PythonPractice.ipynb",
      "provenance": [],
      "collapsed_sections": []
    },
    "kernelspec": {
      "name": "python3",
      "display_name": "Python 3"
    }
  },
  "cells": [
    {
      "cell_type": "code",
      "metadata": {
        "id": "CUxmsNIFCjKw",
        "colab_type": "code",
        "colab": {
          "base_uri": "https://localhost:8080/",
          "height": 34
        },
        "outputId": "931e0bd0-8282-4722-ae9e-a6eeced85a2e"
      },
      "source": [
        "x = 15\n",
        "y = 5\n",
        "print(x + y)"
      ],
      "execution_count": 11,
      "outputs": [
        {
          "output_type": "stream",
          "text": [
            "20\n"
          ],
          "name": "stdout"
        }
      ]
    },
    {
      "cell_type": "code",
      "metadata": {
        "id": "1Zg1HGFZ1Dve",
        "colab_type": "code",
        "colab": {
          "base_uri": "https://localhost:8080/",
          "height": 51
        },
        "outputId": "d51218ce-37a3-48fa-e38a-fdcb5357460b"
      },
      "source": [
        "name = (\"MDhi\")\n",
        "age = (\"12 years old\")\n",
        "print(\"My name is \" + name)\n",
        "print(\"I am \" + age)"
      ],
      "execution_count": 12,
      "outputs": [
        {
          "output_type": "stream",
          "text": [
            "My name is MD\n",
            "I am 12 years old\n"
          ],
          "name": "stdout"
        }
      ]
    }
  ]
}